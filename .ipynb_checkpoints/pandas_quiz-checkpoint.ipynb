{
 "cells": [
  {
   "cell_type": "markdown",
   "id": "0e268da9-490c-4bf3-a1eb-560b497ce131",
   "metadata": {},
   "source": [
    "# Pandas Quiz Scrap Workbook"
   ]
  },
  {
   "cell_type": "markdown",
   "id": "2fb6ebbf-acf2-48f8-b172-6236ad297c6e",
   "metadata": {},
   "source": [
    "## Column Descriptions:"
   ]
  },
  {
   "cell_type": "markdown",
   "id": "ad1dca1e-0ced-4258-b3d6-45369b623802",
   "metadata": {},
   "source": [
    "- `BGGId`: An integer identifier unique to each game in the dataset. If you follow the instructions this will be your index column.\n",
    "- `Name`: The name of the game\n",
    "- `Year`: The year the game was initially published\n",
    "- `Weight`: The average user-rated weight for the game. A number between 1 and 5, with 5 the most complex/heavy\n",
    "- `AvgRating`: The average rating given by users where 10 represents a perfect game\n",
    "- `MinPlayers`/`MaxPlayers`: The minimum and maximum player counts, respectively\n",
    "- `NumRatings`: The number of ratings that contributed towards `AvgRating`\n",
    "- `Kickstarted`: 1 if the game was funded via Kickstarter, 0 otherwise\n",
    "- `Rank`: Overall rank on BoardGameGeek.com as of the time the data was scraped. Lower is better (i.e. 1 is the best game, 2 second best, etc.)\n",
    "- `Category`: The general category under which the game primarily falls."
   ]
  },
  {
   "cell_type": "code",
   "execution_count": 1,
   "id": "4205162a-be81-47fe-a765-e0206f203faf",
   "metadata": {
    "tags": []
   },
   "outputs": [],
   "source": [
    "import numpy as np\n",
    "import pandas as pd\n",
    "\n",
    "# Use pandas to open clean_games.csv\n",
    "# Be sure to pass the keyword argument index_col=0"
   ]
  },
  {
   "cell_type": "code",
   "execution_count": null,
   "id": "f429bdc4-b93f-4502-8bcb-a56925ec3249",
   "metadata": {},
   "outputs": [],
   "source": []
  }
 ],
 "metadata": {
  "kernelspec": {
   "display_name": "Python 3 (ipykernel)",
   "language": "python",
   "name": "python3"
  },
  "language_info": {
   "codemirror_mode": {
    "name": "ipython",
    "version": 3
   },
   "file_extension": ".py",
   "mimetype": "text/x-python",
   "name": "python",
   "nbconvert_exporter": "python",
   "pygments_lexer": "ipython3",
   "version": "3.10.3"
  }
 },
 "nbformat": 4,
 "nbformat_minor": 5
}
